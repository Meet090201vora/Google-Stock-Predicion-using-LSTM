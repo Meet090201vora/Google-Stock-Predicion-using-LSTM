{
  "nbformat": 4,
  "nbformat_minor": 0,
  "metadata": {
    "colab": {
      "name": "GOOGLE STOCK PRICE.ipynb",
      "provenance": [],
      "collapsed_sections": []
    },
    "kernelspec": {
      "name": "python3",
      "display_name": "Python 3"
    },
    "language_info": {
      "name": "python"
    }
  },
  "cells": [
    {
      "cell_type": "code",
      "execution_count": null,
      "metadata": {
        "id": "DnBHKPle202L"
      },
      "outputs": [],
      "source": [
        "import numpy as np\n",
        "import matplotlib.pyplot as plt\n",
        "import pandas as pd"
      ]
    },
    {
      "cell_type": "code",
      "source": [
        "from google.colab import drive\n",
        "drive.mount('/content/drive')"
      ],
      "metadata": {
        "colab": {
          "base_uri": "https://localhost:8080/"
        },
        "id": "swYCpFYP6HHF",
        "outputId": "784e7189-1bbe-4ed6-a47b-d7d056cbf04a"
      },
      "execution_count": null,
      "outputs": [
        {
          "output_type": "stream",
          "name": "stdout",
          "text": [
            "Drive already mounted at /content/drive; to attempt to forcibly remount, call drive.mount(\"/content/drive\", force_remount=True).\n"
          ]
        }
      ]
    },
    {
      "cell_type": "code",
      "source": [
        "!unzip \"drive/My Drive/archive.zip\" -d \"content\""
      ],
      "metadata": {
        "colab": {
          "base_uri": "https://localhost:8080/"
        },
        "id": "QuR3qrW57Fga",
        "outputId": "88bb1e9f-85fa-4df1-da30-fb705128769d"
      },
      "execution_count": null,
      "outputs": [
        {
          "output_type": "stream",
          "name": "stdout",
          "text": [
            "Archive:  drive/My Drive/archive.zip\n",
            "replace content/Google_Stock_Price_Test.csv? [y]es, [n]o, [A]ll, [N]one, [r]ename: n\n",
            "replace content/Google_Stock_Price_Train.csv? [y]es, [n]o, [A]ll, [N]one, [r]ename: n\n"
          ]
        }
      ]
    },
    {
      "cell_type": "code",
      "source": [
        "df_train = pd.read_csv(\"/content/content/Google_Stock_Price_Train.csv\", index_col=\"Date\",parse_dates=True)\n",
        "df_test = pd.read_csv(\"/content/content/Google_Stock_Price_Test.csv\", index_col=\"Date\",parse_dates=True)"
      ],
      "metadata": {
        "id": "bvwCSgbX7VBR"
      },
      "execution_count": null,
      "outputs": []
    },
    {
      "cell_type": "code",
      "source": [
        "df_train.head()"
      ],
      "metadata": {
        "colab": {
          "base_uri": "https://localhost:8080/",
          "height": 238
        },
        "id": "Vux58t967XEk",
        "outputId": "e6813814-5f39-41ce-ee11-0c131585a804"
      },
      "execution_count": null,
      "outputs": [
        {
          "output_type": "execute_result",
          "data": {
            "text/html": [
              "\n",
              "  <div id=\"df-710116ea-bc23-4f1a-9d62-5f43f2bb130d\">\n",
              "    <div class=\"colab-df-container\">\n",
              "      <div>\n",
              "<style scoped>\n",
              "    .dataframe tbody tr th:only-of-type {\n",
              "        vertical-align: middle;\n",
              "    }\n",
              "\n",
              "    .dataframe tbody tr th {\n",
              "        vertical-align: top;\n",
              "    }\n",
              "\n",
              "    .dataframe thead th {\n",
              "        text-align: right;\n",
              "    }\n",
              "</style>\n",
              "<table border=\"1\" class=\"dataframe\">\n",
              "  <thead>\n",
              "    <tr style=\"text-align: right;\">\n",
              "      <th></th>\n",
              "      <th>Open</th>\n",
              "      <th>High</th>\n",
              "      <th>Low</th>\n",
              "      <th>Close</th>\n",
              "      <th>Volume</th>\n",
              "    </tr>\n",
              "    <tr>\n",
              "      <th>Date</th>\n",
              "      <th></th>\n",
              "      <th></th>\n",
              "      <th></th>\n",
              "      <th></th>\n",
              "      <th></th>\n",
              "    </tr>\n",
              "  </thead>\n",
              "  <tbody>\n",
              "    <tr>\n",
              "      <th>2012-01-03</th>\n",
              "      <td>325.25</td>\n",
              "      <td>332.83</td>\n",
              "      <td>324.97</td>\n",
              "      <td>663.59</td>\n",
              "      <td>7,380,500</td>\n",
              "    </tr>\n",
              "    <tr>\n",
              "      <th>2012-01-04</th>\n",
              "      <td>331.27</td>\n",
              "      <td>333.87</td>\n",
              "      <td>329.08</td>\n",
              "      <td>666.45</td>\n",
              "      <td>5,749,400</td>\n",
              "    </tr>\n",
              "    <tr>\n",
              "      <th>2012-01-05</th>\n",
              "      <td>329.83</td>\n",
              "      <td>330.75</td>\n",
              "      <td>326.89</td>\n",
              "      <td>657.21</td>\n",
              "      <td>6,590,300</td>\n",
              "    </tr>\n",
              "    <tr>\n",
              "      <th>2012-01-06</th>\n",
              "      <td>328.34</td>\n",
              "      <td>328.77</td>\n",
              "      <td>323.68</td>\n",
              "      <td>648.24</td>\n",
              "      <td>5,405,900</td>\n",
              "    </tr>\n",
              "    <tr>\n",
              "      <th>2012-01-09</th>\n",
              "      <td>322.04</td>\n",
              "      <td>322.29</td>\n",
              "      <td>309.46</td>\n",
              "      <td>620.76</td>\n",
              "      <td>11,688,800</td>\n",
              "    </tr>\n",
              "  </tbody>\n",
              "</table>\n",
              "</div>\n",
              "      <button class=\"colab-df-convert\" onclick=\"convertToInteractive('df-710116ea-bc23-4f1a-9d62-5f43f2bb130d')\"\n",
              "              title=\"Convert this dataframe to an interactive table.\"\n",
              "              style=\"display:none;\">\n",
              "        \n",
              "  <svg xmlns=\"http://www.w3.org/2000/svg\" height=\"24px\"viewBox=\"0 0 24 24\"\n",
              "       width=\"24px\">\n",
              "    <path d=\"M0 0h24v24H0V0z\" fill=\"none\"/>\n",
              "    <path d=\"M18.56 5.44l.94 2.06.94-2.06 2.06-.94-2.06-.94-.94-2.06-.94 2.06-2.06.94zm-11 1L8.5 8.5l.94-2.06 2.06-.94-2.06-.94L8.5 2.5l-.94 2.06-2.06.94zm10 10l.94 2.06.94-2.06 2.06-.94-2.06-.94-.94-2.06-.94 2.06-2.06.94z\"/><path d=\"M17.41 7.96l-1.37-1.37c-.4-.4-.92-.59-1.43-.59-.52 0-1.04.2-1.43.59L10.3 9.45l-7.72 7.72c-.78.78-.78 2.05 0 2.83L4 21.41c.39.39.9.59 1.41.59.51 0 1.02-.2 1.41-.59l7.78-7.78 2.81-2.81c.8-.78.8-2.07 0-2.86zM5.41 20L4 18.59l7.72-7.72 1.47 1.35L5.41 20z\"/>\n",
              "  </svg>\n",
              "      </button>\n",
              "      \n",
              "  <style>\n",
              "    .colab-df-container {\n",
              "      display:flex;\n",
              "      flex-wrap:wrap;\n",
              "      gap: 12px;\n",
              "    }\n",
              "\n",
              "    .colab-df-convert {\n",
              "      background-color: #E8F0FE;\n",
              "      border: none;\n",
              "      border-radius: 50%;\n",
              "      cursor: pointer;\n",
              "      display: none;\n",
              "      fill: #1967D2;\n",
              "      height: 32px;\n",
              "      padding: 0 0 0 0;\n",
              "      width: 32px;\n",
              "    }\n",
              "\n",
              "    .colab-df-convert:hover {\n",
              "      background-color: #E2EBFA;\n",
              "      box-shadow: 0px 1px 2px rgba(60, 64, 67, 0.3), 0px 1px 3px 1px rgba(60, 64, 67, 0.15);\n",
              "      fill: #174EA6;\n",
              "    }\n",
              "\n",
              "    [theme=dark] .colab-df-convert {\n",
              "      background-color: #3B4455;\n",
              "      fill: #D2E3FC;\n",
              "    }\n",
              "\n",
              "    [theme=dark] .colab-df-convert:hover {\n",
              "      background-color: #434B5C;\n",
              "      box-shadow: 0px 1px 3px 1px rgba(0, 0, 0, 0.15);\n",
              "      filter: drop-shadow(0px 1px 2px rgba(0, 0, 0, 0.3));\n",
              "      fill: #FFFFFF;\n",
              "    }\n",
              "  </style>\n",
              "\n",
              "      <script>\n",
              "        const buttonEl =\n",
              "          document.querySelector('#df-710116ea-bc23-4f1a-9d62-5f43f2bb130d button.colab-df-convert');\n",
              "        buttonEl.style.display =\n",
              "          google.colab.kernel.accessAllowed ? 'block' : 'none';\n",
              "\n",
              "        async function convertToInteractive(key) {\n",
              "          const element = document.querySelector('#df-710116ea-bc23-4f1a-9d62-5f43f2bb130d');\n",
              "          const dataTable =\n",
              "            await google.colab.kernel.invokeFunction('convertToInteractive',\n",
              "                                                     [key], {});\n",
              "          if (!dataTable) return;\n",
              "\n",
              "          const docLinkHtml = 'Like what you see? Visit the ' +\n",
              "            '<a target=\"_blank\" href=https://colab.research.google.com/notebooks/data_table.ipynb>data table notebook</a>'\n",
              "            + ' to learn more about interactive tables.';\n",
              "          element.innerHTML = '';\n",
              "          dataTable['output_type'] = 'display_data';\n",
              "          await google.colab.output.renderOutput(dataTable, element);\n",
              "          const docLink = document.createElement('div');\n",
              "          docLink.innerHTML = docLinkHtml;\n",
              "          element.appendChild(docLink);\n",
              "        }\n",
              "      </script>\n",
              "    </div>\n",
              "  </div>\n",
              "  "
            ],
            "text/plain": [
              "              Open    High     Low   Close      Volume\n",
              "Date                                                  \n",
              "2012-01-03  325.25  332.83  324.97  663.59   7,380,500\n",
              "2012-01-04  331.27  333.87  329.08  666.45   5,749,400\n",
              "2012-01-05  329.83  330.75  326.89  657.21   6,590,300\n",
              "2012-01-06  328.34  328.77  323.68  648.24   5,405,900\n",
              "2012-01-09  322.04  322.29  309.46  620.76  11,688,800"
            ]
          },
          "metadata": {},
          "execution_count": 126
        }
      ]
    },
    {
      "cell_type": "code",
      "source": [
        "df_test.head()"
      ],
      "metadata": {
        "colab": {
          "base_uri": "https://localhost:8080/",
          "height": 215
        },
        "id": "Vf5m7NL18MEq",
        "outputId": "9c90210d-7d75-4969-cf78-a7816c967430"
      },
      "execution_count": null,
      "outputs": [
        {
          "output_type": "execute_result",
          "data": {
            "text/html": [
              "\n",
              "  <div id=\"df-7722a1cc-21ce-4657-956d-2319c9a15347\">\n",
              "    <div class=\"colab-df-container\">\n",
              "      <div>\n",
              "<style scoped>\n",
              "    .dataframe tbody tr th:only-of-type {\n",
              "        vertical-align: middle;\n",
              "    }\n",
              "\n",
              "    .dataframe tbody tr th {\n",
              "        vertical-align: top;\n",
              "    }\n",
              "\n",
              "    .dataframe thead th {\n",
              "        text-align: right;\n",
              "    }\n",
              "</style>\n",
              "<table border=\"1\" class=\"dataframe\">\n",
              "  <thead>\n",
              "    <tr style=\"text-align: right;\">\n",
              "      <th></th>\n",
              "      <th>Open</th>\n",
              "      <th>High</th>\n",
              "      <th>Low</th>\n",
              "      <th>Close</th>\n",
              "      <th>Volume</th>\n",
              "    </tr>\n",
              "    <tr>\n",
              "      <th>Date</th>\n",
              "      <th></th>\n",
              "      <th></th>\n",
              "      <th></th>\n",
              "      <th></th>\n",
              "      <th></th>\n",
              "    </tr>\n",
              "  </thead>\n",
              "  <tbody>\n",
              "    <tr>\n",
              "      <th>2017-01-03</th>\n",
              "      <td>778.81</td>\n",
              "      <td>789.63</td>\n",
              "      <td>775.80</td>\n",
              "      <td>786.14</td>\n",
              "      <td>1,657,300</td>\n",
              "    </tr>\n",
              "    <tr>\n",
              "      <th>2017-01-04</th>\n",
              "      <td>788.36</td>\n",
              "      <td>791.34</td>\n",
              "      <td>783.16</td>\n",
              "      <td>786.90</td>\n",
              "      <td>1,073,000</td>\n",
              "    </tr>\n",
              "    <tr>\n",
              "      <th>2017-01-05</th>\n",
              "      <td>786.08</td>\n",
              "      <td>794.48</td>\n",
              "      <td>785.02</td>\n",
              "      <td>794.02</td>\n",
              "      <td>1,335,200</td>\n",
              "    </tr>\n",
              "    <tr>\n",
              "      <th>2017-01-06</th>\n",
              "      <td>795.26</td>\n",
              "      <td>807.90</td>\n",
              "      <td>792.20</td>\n",
              "      <td>806.15</td>\n",
              "      <td>1,640,200</td>\n",
              "    </tr>\n",
              "    <tr>\n",
              "      <th>2017-01-09</th>\n",
              "      <td>806.40</td>\n",
              "      <td>809.97</td>\n",
              "      <td>802.83</td>\n",
              "      <td>806.65</td>\n",
              "      <td>1,272,400</td>\n",
              "    </tr>\n",
              "  </tbody>\n",
              "</table>\n",
              "</div>\n",
              "      <button class=\"colab-df-convert\" onclick=\"convertToInteractive('df-7722a1cc-21ce-4657-956d-2319c9a15347')\"\n",
              "              title=\"Convert this dataframe to an interactive table.\"\n",
              "              style=\"display:none;\">\n",
              "        \n",
              "  <svg xmlns=\"http://www.w3.org/2000/svg\" height=\"24px\"viewBox=\"0 0 24 24\"\n",
              "       width=\"24px\">\n",
              "    <path d=\"M0 0h24v24H0V0z\" fill=\"none\"/>\n",
              "    <path d=\"M18.56 5.44l.94 2.06.94-2.06 2.06-.94-2.06-.94-.94-2.06-.94 2.06-2.06.94zm-11 1L8.5 8.5l.94-2.06 2.06-.94-2.06-.94L8.5 2.5l-.94 2.06-2.06.94zm10 10l.94 2.06.94-2.06 2.06-.94-2.06-.94-.94-2.06-.94 2.06-2.06.94z\"/><path d=\"M17.41 7.96l-1.37-1.37c-.4-.4-.92-.59-1.43-.59-.52 0-1.04.2-1.43.59L10.3 9.45l-7.72 7.72c-.78.78-.78 2.05 0 2.83L4 21.41c.39.39.9.59 1.41.59.51 0 1.02-.2 1.41-.59l7.78-7.78 2.81-2.81c.8-.78.8-2.07 0-2.86zM5.41 20L4 18.59l7.72-7.72 1.47 1.35L5.41 20z\"/>\n",
              "  </svg>\n",
              "      </button>\n",
              "      \n",
              "  <style>\n",
              "    .colab-df-container {\n",
              "      display:flex;\n",
              "      flex-wrap:wrap;\n",
              "      gap: 12px;\n",
              "    }\n",
              "\n",
              "    .colab-df-convert {\n",
              "      background-color: #E8F0FE;\n",
              "      border: none;\n",
              "      border-radius: 50%;\n",
              "      cursor: pointer;\n",
              "      display: none;\n",
              "      fill: #1967D2;\n",
              "      height: 32px;\n",
              "      padding: 0 0 0 0;\n",
              "      width: 32px;\n",
              "    }\n",
              "\n",
              "    .colab-df-convert:hover {\n",
              "      background-color: #E2EBFA;\n",
              "      box-shadow: 0px 1px 2px rgba(60, 64, 67, 0.3), 0px 1px 3px 1px rgba(60, 64, 67, 0.15);\n",
              "      fill: #174EA6;\n",
              "    }\n",
              "\n",
              "    [theme=dark] .colab-df-convert {\n",
              "      background-color: #3B4455;\n",
              "      fill: #D2E3FC;\n",
              "    }\n",
              "\n",
              "    [theme=dark] .colab-df-convert:hover {\n",
              "      background-color: #434B5C;\n",
              "      box-shadow: 0px 1px 3px 1px rgba(0, 0, 0, 0.15);\n",
              "      filter: drop-shadow(0px 1px 2px rgba(0, 0, 0, 0.3));\n",
              "      fill: #FFFFFF;\n",
              "    }\n",
              "  </style>\n",
              "\n",
              "      <script>\n",
              "        const buttonEl =\n",
              "          document.querySelector('#df-7722a1cc-21ce-4657-956d-2319c9a15347 button.colab-df-convert');\n",
              "        buttonEl.style.display =\n",
              "          google.colab.kernel.accessAllowed ? 'block' : 'none';\n",
              "\n",
              "        async function convertToInteractive(key) {\n",
              "          const element = document.querySelector('#df-7722a1cc-21ce-4657-956d-2319c9a15347');\n",
              "          const dataTable =\n",
              "            await google.colab.kernel.invokeFunction('convertToInteractive',\n",
              "                                                     [key], {});\n",
              "          if (!dataTable) return;\n",
              "\n",
              "          const docLinkHtml = 'Like what you see? Visit the ' +\n",
              "            '<a target=\"_blank\" href=https://colab.research.google.com/notebooks/data_table.ipynb>data table notebook</a>'\n",
              "            + ' to learn more about interactive tables.';\n",
              "          element.innerHTML = '';\n",
              "          dataTable['output_type'] = 'display_data';\n",
              "          await google.colab.output.renderOutput(dataTable, element);\n",
              "          const docLink = document.createElement('div');\n",
              "          docLink.innerHTML = docLinkHtml;\n",
              "          element.appendChild(docLink);\n",
              "        }\n",
              "      </script>\n",
              "    </div>\n",
              "  </div>\n",
              "  "
            ],
            "text/plain": [
              "              Open    High     Low   Close     Volume\n",
              "Date                                                 \n",
              "2017-01-03  778.81  789.63  775.80  786.14  1,657,300\n",
              "2017-01-04  788.36  791.34  783.16  786.90  1,073,000\n",
              "2017-01-05  786.08  794.48  785.02  794.02  1,335,200\n",
              "2017-01-06  795.26  807.90  792.20  806.15  1,640,200\n",
              "2017-01-09  806.40  809.97  802.83  806.65  1,272,400"
            ]
          },
          "metadata": {},
          "execution_count": 127
        }
      ]
    },
    {
      "cell_type": "code",
      "source": [
        "print(\"Training shape : \",df_train.shape)\n",
        "print(\"Testing shape : \",df_test.shape)"
      ],
      "metadata": {
        "colab": {
          "base_uri": "https://localhost:8080/"
        },
        "id": "k69s7ZMa9Dh5",
        "outputId": "b2a6575f-7580-484b-b21c-411999d89f89"
      },
      "execution_count": null,
      "outputs": [
        {
          "output_type": "stream",
          "name": "stdout",
          "text": [
            "Training shape :  (1258, 5)\n",
            "Testing shape :  (20, 5)\n"
          ]
        }
      ]
    },
    {
      "cell_type": "code",
      "source": [
        "df_train.info()"
      ],
      "metadata": {
        "colab": {
          "base_uri": "https://localhost:8080/"
        },
        "id": "AdQuB5YsJ_6b",
        "outputId": "6e5610f8-d1bc-4f8a-98b6-ff1a2ed3616e"
      },
      "execution_count": null,
      "outputs": [
        {
          "output_type": "stream",
          "name": "stdout",
          "text": [
            "<class 'pandas.core.frame.DataFrame'>\n",
            "DatetimeIndex: 1258 entries, 2012-01-03 to 2016-12-30\n",
            "Data columns (total 5 columns):\n",
            " #   Column  Non-Null Count  Dtype  \n",
            "---  ------  --------------  -----  \n",
            " 0   Open    1258 non-null   float64\n",
            " 1   High    1258 non-null   float64\n",
            " 2   Low     1258 non-null   float64\n",
            " 3   Close   1258 non-null   object \n",
            " 4   Volume  1258 non-null   object \n",
            "dtypes: float64(3), object(2)\n",
            "memory usage: 59.0+ KB\n"
          ]
        }
      ]
    },
    {
      "cell_type": "code",
      "source": [
        "df_train['Close'] = df_train['Close'].str.replace(',','').astype(float)\n",
        "df_train[['Open','Close']].plot(figsize = (16,6))"
      ],
      "metadata": {
        "colab": {
          "base_uri": "https://localhost:8080/",
          "height": 384
        },
        "id": "7oKUzQtu95z7",
        "outputId": "abfde116-730d-4d9f-a041-0048e365d427"
      },
      "execution_count": null,
      "outputs": [
        {
          "output_type": "execute_result",
          "data": {
            "text/plain": [
              "<matplotlib.axes._subplots.AxesSubplot at 0x7f818d3bba50>"
            ]
          },
          "metadata": {},
          "execution_count": 130
        },
        {
          "output_type": "display_data",
          "data": {
            "image/png": "[encoded data removed]",
            "text/plain": [
              "<Figure size 1152x432 with 1 Axes>"
            ]
          },
          "metadata": {
            "needs_background": "light"
          }
        }
      ]
    },
    {
      "cell_type": "code",
      "source": [
        "open_train = df_train['Open'].values.reshape(-1,1)"
      ],
      "metadata": {
        "id": "0ZGZhyN0BoTD"
      },
      "execution_count": null,
      "outputs": []
    },
    {
      "cell_type": "code",
      "source": [
        "from sklearn.preprocessing import MinMaxScaler\n",
        "min_max = MinMaxScaler()\n",
        "open_train_scaled = min_max.fit_transform(open_train)\n"
      ],
      "metadata": {
        "id": "QLtPzFJxEin2"
      },
      "execution_count": null,
      "outputs": []
    },
    {
      "cell_type": "code",
      "source": [
        "#defining timeset\n",
        "X_train = []\n",
        "y_train = []\n",
        "\n",
        "#we will create a list that will store the previous data and predict a new output\n",
        "#lets define the timestep as 70, i.e we will consider 54 Previous values and output will be 55th dataset\n",
        "timestep = 70\n",
        "for i in range(timestep,open_train_scaled.shape[0]):\n",
        "    X_train.append(open_train_scaled[i-timestep:i, 0])\n",
        "    y_train.append(open_train_scaled[i, 0])\n",
        "\n",
        "X_train = np.array(X_train)\n",
        "y_train = np.array(y_train)"
      ],
      "metadata": {
        "id": "P1PLejZ5Fzq1"
      },
      "execution_count": null,
      "outputs": []
    },
    {
      "cell_type": "code",
      "source": [
        "X_train = np.reshape(X_train, (X_train.shape[0], X_train.shape[1], 1))"
      ],
      "metadata": {
        "id": "eOhIa7zIJtIG"
      },
      "execution_count": null,
      "outputs": []
    },
    {
      "cell_type": "code",
      "source": [
        ""
      ],
      "metadata": {
        "id": "dllBgP9ZJ7-s"
      },
      "execution_count": null,
      "outputs": []
    },
    {
      "cell_type": "code",
      "source": [
        "import tensorflow as tf\n",
        "from tensorflow.keras.models import Sequential\n",
        "from tensorflow.keras.layers import Dense,Dropout,LSTM\n"
      ],
      "metadata": {
        "id": "qGkxZTPvBp3r"
      },
      "execution_count": null,
      "outputs": []
    },
    {
      "cell_type": "code",
      "source": [
        "regressor = Sequential()\n",
        "regressor.add(LSTM(units = 50, return_sequences = True, input_shape = (X_train.shape[1], 1)))\n",
        "regressor.add(Dropout(0.2))\n",
        "\n",
        "# Adding a second LSTM layer and some Dropout regularisation\n",
        "regressor.add(LSTM(units = 50, return_sequences = True))\n",
        "regressor.add(Dropout(0.2))\n",
        "\n",
        "# Adding a third LSTM layer and some Dropout regularisation\n",
        "regressor.add(LSTM(units = 50, return_sequences = True))\n",
        "regressor.add(Dropout(0.2))\n",
        "\n",
        "# Adding a fourth LSTM layer and some Dropout regularisation\n",
        "regressor.add(LSTM(units = 50))\n",
        "regressor.add(Dropout(0.2))\n",
        "\n",
        "# Adding the output layer\n",
        "regressor.add(Dense(units = 1))"
      ],
      "metadata": {
        "id": "Rq2tfW0ENZo0"
      },
      "execution_count": null,
      "outputs": []
    },
    {
      "cell_type": "code",
      "source": [
        "regressor.compile(optimizer = 'adam', loss = 'mean_squared_error')\n",
        "\n",
        "# Fitting the RNN to the Training set\n",
        "regressor.fit(X_train, y_train, epochs = 100, batch_size = 32)"
      ],
      "metadata": {
        "colab": {
          "base_uri": "https://localhost:8080/"
        },
        "id": "ERPT9UHgMUAw",
        "outputId": "24cf3070-110b-4cf6-bd17-b6bca6aa1db7"
      },
      "execution_count": null,
      "outputs": [
        {
          "output_type": "stream",
          "name": "stdout",
          "text": [
            "Epoch 1/100\n",
            "38/38 [==============================] - 14s 154ms/step - loss: 0.0562\n",
            "Epoch 2/100\n",
            "38/38 [==============================] - 6s 159ms/step - loss: 0.0064\n",
            "Epoch 3/100\n",
            "38/38 [==============================] - 6s 162ms/step - loss: 0.0057\n",
            "Epoch 4/100\n",
            "38/38 [==============================] - 6s 156ms/step - loss: 0.0059\n",
            "Epoch 5/100\n",
            "38/38 [==============================] - 6s 158ms/step - loss: 0.0052\n",
            "Epoch 6/100\n",
            "38/38 [==============================] - 6s 158ms/step - loss: 0.0059\n",
            "Epoch 7/100\n",
            "38/38 [==============================] - 6s 157ms/step - loss: 0.0043\n",
            "Epoch 8/100\n",
            "38/38 [==============================] - 6s 155ms/step - loss: 0.0052\n",
            "Epoch 9/100\n",
            "38/38 [==============================] - 6s 154ms/step - loss: 0.0046\n",
            "Epoch 10/100\n",
            "38/38 [==============================] - 6s 158ms/step - loss: 0.0043\n",
            "Epoch 11/100\n",
            "38/38 [==============================] - 6s 157ms/step - loss: 0.0043\n",
            "Epoch 12/100\n",
            "38/38 [==============================] - 6s 154ms/step - loss: 0.0040\n",
            "Epoch 13/100\n",
            "38/38 [==============================] - 6s 155ms/step - loss: 0.0041\n",
            "Epoch 14/100\n",
            "38/38 [==============================] - 6s 154ms/step - loss: 0.0038\n",
            "Epoch 15/100\n",
            "38/38 [==============================] - 6s 157ms/step - loss: 0.0036\n",
            "Epoch 16/100\n",
            "38/38 [==============================] - 6s 154ms/step - loss: 0.0041\n",
            "Epoch 17/100\n",
            "38/38 [==============================] - 6s 152ms/step - loss: 0.0042\n",
            "Epoch 18/100\n",
            "38/38 [==============================] - 6s 154ms/step - loss: 0.0038\n",
            "Epoch 19/100\n",
            "38/38 [==============================] - 6s 150ms/step - loss: 0.0038\n",
            "Epoch 20/100\n",
            "38/38 [==============================] - 6s 149ms/step - loss: 0.0035\n",
            "Epoch 21/100\n",
            "38/38 [==============================] - 6s 155ms/step - loss: 0.0036\n",
            "Epoch 22/100\n",
            "38/38 [==============================] - 6s 155ms/step - loss: 0.0035\n",
            "Epoch 23/100\n",
            "38/38 [==============================] - 6s 151ms/step - loss: 0.0037\n",
            "Epoch 24/100\n",
            "38/38 [==============================] - 6s 151ms/step - loss: 0.0033\n",
            "Epoch 25/100\n",
            "38/38 [==============================] - 6s 155ms/step - loss: 0.0035\n",
            "Epoch 26/100\n",
            "38/38 [==============================] - 6s 152ms/step - loss: 0.0033\n",
            "Epoch 27/100\n",
            "38/38 [==============================] - 6s 150ms/step - loss: 0.0029\n",
            "Epoch 28/100\n",
            "38/38 [==============================] - 6s 153ms/step - loss: 0.0033\n",
            "Epoch 29/100\n",
            "38/38 [==============================] - 6s 152ms/step - loss: 0.0038\n",
            "Epoch 30/100\n",
            "38/38 [==============================] - 6s 153ms/step - loss: 0.0030\n",
            "Epoch 31/100\n",
            "38/38 [==============================] - 6s 153ms/step - loss: 0.0029\n",
            "Epoch 32/100\n",
            "38/38 [==============================] - 6s 153ms/step - loss: 0.0028\n",
            "Epoch 33/100\n",
            "38/38 [==============================] - 6s 154ms/step - loss: 0.0034\n",
            "Epoch 34/100\n",
            "38/38 [==============================] - 6s 152ms/step - loss: 0.0027\n",
            "Epoch 35/100\n",
            "38/38 [==============================] - 6s 153ms/step - loss: 0.0030\n",
            "Epoch 36/100\n",
            "38/38 [==============================] - 6s 153ms/step - loss: 0.0030\n",
            "Epoch 37/100\n",
            "38/38 [==============================] - 6s 152ms/step - loss: 0.0032\n",
            "Epoch 38/100\n",
            "38/38 [==============================] - 6s 153ms/step - loss: 0.0032\n",
            "Epoch 39/100\n",
            "38/38 [==============================] - 6s 151ms/step - loss: 0.0027\n",
            "Epoch 40/100\n",
            "38/38 [==============================] - 6s 156ms/step - loss: 0.0027\n",
            "Epoch 41/100\n",
            "38/38 [==============================] - 6s 156ms/step - loss: 0.0027\n",
            "Epoch 42/100\n",
            "38/38 [==============================] - 6s 152ms/step - loss: 0.0030\n",
            "Epoch 43/100\n",
            "38/38 [==============================] - 6s 152ms/step - loss: 0.0026\n",
            "Epoch 44/100\n",
            "38/38 [==============================] - 6s 150ms/step - loss: 0.0024\n",
            "Epoch 45/100\n",
            "38/38 [==============================] - 6s 154ms/step - loss: 0.0025\n",
            "Epoch 46/100\n",
            "38/38 [==============================] - 6s 155ms/step - loss: 0.0022\n",
            "Epoch 47/100\n",
            "38/38 [==============================] - 6s 154ms/step - loss: 0.0025\n",
            "Epoch 48/100\n",
            "38/38 [==============================] - 6s 153ms/step - loss: 0.0024\n",
            "Epoch 49/100\n",
            "38/38 [==============================] - 6s 153ms/step - loss: 0.0023\n",
            "Epoch 50/100\n",
            "38/38 [==============================] - 6s 152ms/step - loss: 0.0023\n",
            "Epoch 51/100\n",
            "38/38 [==============================] - 6s 153ms/step - loss: 0.0023\n",
            "Epoch 52/100\n",
            "38/38 [==============================] - 6s 152ms/step - loss: 0.0024\n",
            "Epoch 53/100\n",
            "38/38 [==============================] - 6s 151ms/step - loss: 0.0022\n",
            "Epoch 54/100\n",
            "38/38 [==============================] - 6s 150ms/step - loss: 0.0026\n",
            "Epoch 55/100\n",
            "38/38 [==============================] - 6s 150ms/step - loss: 0.0023\n",
            "Epoch 56/100\n",
            "38/38 [==============================] - 6s 152ms/step - loss: 0.0026\n",
            "Epoch 57/100\n",
            "38/38 [==============================] - 6s 151ms/step - loss: 0.0021\n",
            "Epoch 58/100\n",
            "38/38 [==============================] - 6s 152ms/step - loss: 0.0022\n",
            "Epoch 59/100\n",
            "38/38 [==============================] - 6s 153ms/step - loss: 0.0023\n",
            "Epoch 60/100\n",
            "38/38 [==============================] - 6s 153ms/step - loss: 0.0022\n",
            "Epoch 61/100\n",
            "38/38 [==============================] - 6s 155ms/step - loss: 0.0019\n",
            "Epoch 62/100\n",
            "38/38 [==============================] - 6s 152ms/step - loss: 0.0020\n",
            "Epoch 63/100\n",
            "38/38 [==============================] - 6s 154ms/step - loss: 0.0019\n",
            "Epoch 64/100\n",
            "38/38 [==============================] - 6s 151ms/step - loss: 0.0018\n",
            "Epoch 65/100\n",
            "38/38 [==============================] - 6s 148ms/step - loss: 0.0020\n",
            "Epoch 66/100\n",
            "38/38 [==============================] - 6s 146ms/step - loss: 0.0019\n",
            "Epoch 67/100\n",
            "38/38 [==============================] - 6s 157ms/step - loss: 0.0020\n",
            "Epoch 68/100\n",
            "38/38 [==============================] - 7s 194ms/step - loss: 0.0022\n",
            "Epoch 69/100\n",
            "38/38 [==============================] - 6s 150ms/step - loss: 0.0019\n",
            "Epoch 70/100\n",
            "38/38 [==============================] - 6s 149ms/step - loss: 0.0019\n",
            "Epoch 71/100\n",
            "38/38 [==============================] - 6s 148ms/step - loss: 0.0017\n",
            "Epoch 72/100\n",
            "38/38 [==============================] - 6s 150ms/step - loss: 0.0023\n",
            "Epoch 73/100\n",
            "38/38 [==============================] - 6s 148ms/step - loss: 0.0019\n",
            "Epoch 74/100\n",
            "38/38 [==============================] - 6s 152ms/step - loss: 0.0017\n",
            "Epoch 75/100\n",
            "38/38 [==============================] - 6s 151ms/step - loss: 0.0018\n",
            "Epoch 76/100\n",
            "38/38 [==============================] - 6s 152ms/step - loss: 0.0020\n",
            "Epoch 77/100\n",
            "38/38 [==============================] - 6s 153ms/step - loss: 0.0018\n",
            "Epoch 78/100\n",
            "38/38 [==============================] - 6s 156ms/step - loss: 0.0017\n",
            "Epoch 79/100\n",
            "38/38 [==============================] - 6s 154ms/step - loss: 0.0016\n",
            "Epoch 80/100\n",
            "38/38 [==============================] - 6s 150ms/step - loss: 0.0017\n",
            "Epoch 81/100\n",
            "38/38 [==============================] - 6s 149ms/step - loss: 0.0016\n",
            "Epoch 82/100\n",
            "38/38 [==============================] - 6s 151ms/step - loss: 0.0017\n",
            "Epoch 83/100\n",
            "38/38 [==============================] - 6s 151ms/step - loss: 0.0016\n",
            "Epoch 84/100\n",
            "38/38 [==============================] - 6s 152ms/step - loss: 0.0017\n",
            "Epoch 85/100\n",
            "38/38 [==============================] - 6s 150ms/step - loss: 0.0016\n",
            "Epoch 86/100\n",
            "38/38 [==============================] - 6s 152ms/step - loss: 0.0016\n",
            "Epoch 87/100\n",
            "38/38 [==============================] - 6s 150ms/step - loss: 0.0016\n",
            "Epoch 88/100\n",
            "38/38 [==============================] - 6s 151ms/step - loss: 0.0017\n",
            "Epoch 89/100\n",
            "38/38 [==============================] - 6s 150ms/step - loss: 0.0016\n",
            "Epoch 90/100\n",
            "38/38 [==============================] - 6s 153ms/step - loss: 0.0015\n",
            "Epoch 91/100\n",
            "38/38 [==============================] - 6s 152ms/step - loss: 0.0015\n",
            "Epoch 92/100\n",
            "38/38 [==============================] - 6s 152ms/step - loss: 0.0015\n",
            "Epoch 93/100\n",
            "38/38 [==============================] - 6s 151ms/step - loss: 0.0015\n",
            "Epoch 94/100\n",
            "38/38 [==============================] - 6s 153ms/step - loss: 0.0015\n",
            "Epoch 95/100\n",
            "38/38 [==============================] - 6s 152ms/step - loss: 0.0012\n",
            "Epoch 96/100\n",
            "38/38 [==============================] - 6s 151ms/step - loss: 0.0018\n",
            "Epoch 97/100\n",
            "38/38 [==============================] - 6s 157ms/step - loss: 0.0015\n",
            "Epoch 98/100\n",
            "38/38 [==============================] - 6s 158ms/step - loss: 0.0014\n",
            "Epoch 99/100\n",
            "38/38 [==============================] - 6s 157ms/step - loss: 0.0016\n",
            "Epoch 100/100\n",
            "38/38 [==============================] - 6s 156ms/step - loss: 0.0014\n"
          ]
        },
        {
          "output_type": "execute_result",
          "data": {
            "text/plain": [
              "<keras.callbacks.History at 0x7f8186ca1610>"
            ]
          },
          "metadata": {},
          "execution_count": 171
        }
      ]
    },
    {
      "cell_type": "code",
      "source": [
        ""
      ],
      "metadata": {
        "id": "d0xlPKHgMXi9"
      },
      "execution_count": null,
      "outputs": []
    },
    {
      "cell_type": "markdown",
      "source": [
        "**19-01**"
      ],
      "metadata": {
        "id": "JryJlYsgThTT"
      }
    },
    {
      "cell_type": "code",
      "source": [
        ""
      ],
      "metadata": {
        "id": "Rsj34atqT0_b"
      },
      "execution_count": null,
      "outputs": []
    },
    {
      "cell_type": "code",
      "source": [
        "test_train_combine = pd.concat((df_train['Open'], df_test['Open']), axis = 0)"
      ],
      "metadata": {
        "id": "3-b59bUAhF9J"
      },
      "execution_count": null,
      "outputs": []
    },
    {
      "cell_type": "code",
      "source": [
        "prior_data = test_train_combine[len(test_train_combine)-len(df_test)-timestep:].values.reshape(-1,1)\n",
        "prior_data_scaled = min_max.transform(prior_data)\n",
        "\n",
        "X_test = []\n",
        "\n",
        "\n",
        "for i in range(timestep,timestep + len(df_test['Open'])):\n",
        "  X_test.append(prior_data_scaled[i-timestep:i,0])\n",
        "  \n",
        "\n",
        "X_test = np.array(X_test)\n",
        "X_test = np.reshape(X_test,(X_test.shape[0],X_test.shape[1],1))\n",
        "\n",
        "predicted_values = regressor.predict(X_test)"
      ],
      "metadata": {
        "id": "833Xfy8eivU7"
      },
      "execution_count": null,
      "outputs": []
    },
    {
      "cell_type": "code",
      "source": [
        "unscaling_predicted_values = min_max.inverse_transform(predicted_values)\n",
        "real_values = df_test['Open'].values"
      ],
      "metadata": {
        "id": "PSbMMwjBixMa"
      },
      "execution_count": null,
      "outputs": []
    },
    {
      "cell_type": "code",
      "source": [
        "plt.plot(unscaling_predicted_values,color = 'orange', label = 'Predicted Stock Price')\n",
        "plt.plot(real_values,color = 'green', label = 'Real Stock Price')\n",
        "plt.title('Stock Price Prediction')\n",
        "plt.xlabel('Date')\n",
        "plt.ylabel('Stock Price')\n",
        "plt.legend()\n",
        "plt.show()"
      ],
      "metadata": {
        "colab": {
          "base_uri": "https://localhost:8080/",
          "height": 295
        },
        "id": "1qhOo75Zy9PZ",
        "outputId": "601a9d0c-2d9c-4164-f695-31459d793da2"
      },
      "execution_count": null,
      "outputs": [
        {
          "output_type": "display_data",
          "data": {
            "image/png": "[encoded data removed]",
            "text/plain": [
              "<Figure size 432x288 with 1 Axes>"
            ]
          },
          "metadata": {
            "needs_background": "light"
          }
        }
      ]
    },
    {
      "cell_type": "code",
      "source": [
        "unscaling_predicted_values"
      ],
      "metadata": {
        "colab": {
          "base_uri": "https://localhost:8080/"
        },
        "id": "6S_gLpAgzLun",
        "outputId": "a352decd-0341-4488-e2e9-5466341d8544"
      },
      "execution_count": null,
      "outputs": [
        {
          "output_type": "execute_result",
          "data": {
            "text/plain": [
              "array([[777.0401 ],\n",
              "       [774.3519 ],\n",
              "       [775.63306],\n",
              "       [777.36597],\n",
              "       [781.0554 ],\n",
              "       [787.34424],\n",
              "       [792.1739 ],\n",
              "       [793.16406],\n",
              "       [792.99756],\n",
              "       [792.8355 ],\n",
              "       [792.8303 ],\n",
              "       [792.69794],\n",
              "       [792.573  ],\n",
              "       [793.2721 ],\n",
              "       [794.25714],\n",
              "       [799.7462 ],\n",
              "       [806.9306 ],\n",
              "       [813.9009 ],\n",
              "       [816.4574 ],\n",
              "       [809.96185]], dtype=float32)"
            ]
          },
          "metadata": {},
          "execution_count": 176
        }
      ]
    },
    {
      "cell_type": "code",
      "source": [
        ""
      ],
      "metadata": {
        "id": "kAcazfdUzxvG"
      },
      "execution_count": null,
      "outputs": []
    },
    {
      "cell_type": "code",
      "source": [
        "X_test.shape"
      ],
      "metadata": {
        "colab": {
          "base_uri": "https://localhost:8080/"
        },
        "id": "IaQatIfDEgFQ",
        "outputId": "dd47f6d7-03da-4895-dae5-c4556fa27229"
      },
      "execution_count": null,
      "outputs": [
        {
          "output_type": "execute_result",
          "data": {
            "text/plain": [
              "(20, 70, 1)"
            ]
          },
          "metadata": {},
          "execution_count": 188
        }
      ]
    },
    {
      "cell_type": "code",
      "source": [
        ""
      ],
      "metadata": {
        "id": "PUmM_L4qIdxc"
      },
      "execution_count": null,
      "outputs": []
    }
  ]
}